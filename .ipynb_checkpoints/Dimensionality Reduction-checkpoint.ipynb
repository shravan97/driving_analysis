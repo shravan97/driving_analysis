{
 "cells": [
  {
   "cell_type": "code",
   "execution_count": 49,
   "metadata": {
    "collapsed": true
   },
   "outputs": [],
   "source": [
    "# Imports\n",
    "import numpy as np\n",
    "import scipy as sc\n",
    "import matplotlib.pyplot as pyp\n",
    "import itertools\n",
    "import pandas as pd\n",
    "import warnings\n",
    "import IPython\n",
    "# from mpl_toolkits.mplot3d import Axes3D\n",
    "from scipy.cluster.vq import vq, kmeans, whiten\n",
    "from sklearn.preprocessing import normalize\n",
    "from sklearn.decomposition import PCA, KernelPCA\n",
    "from sklearn.manifold import TSNE\n",
    "from plotly import plotly as ply, graph_objs as go"
   ]
  },
  {
   "cell_type": "code",
   "execution_count": 50,
   "metadata": {
    "collapsed": true
   },
   "outputs": [],
   "source": [
    "warnings.filterwarnings('ignore')"
   ]
  },
  {
   "cell_type": "markdown",
   "metadata": {},
   "source": [
    "## Loading the data from the dataset \n",
    "\n",
    "The function below named ``` dataset_loader ``` loads the data from dataset of University of Stuttgart, Germany. Here is the link to the dataset : https://www.hcilab.org/wp-content/uploads/hcilab_driving_dataset.zip  \n",
    "\n",
    "The files are named as *participant_1.csv*, *participant_2.csv*, *participant_3.csv*, ..... so on uptil '10'. The first 5000 rows and the last '17' columns are retrieved from the each participant's data. It then **Normalizes** the data to fit them in the range **[0,1]**"
   ]
  },
  {
   "cell_type": "code",
   "execution_count": 51,
   "metadata": {
    "collapsed": true
   },
   "outputs": [],
   "source": [
    "def dataset_loader(participant):\n",
    "    # Load the file \n",
    "    participant = \"participant_\" + str(participant)\n",
    "    f = open(\"dataset/dataset_web/{}.csv\".format(participant), \"r+\")\n",
    "    \n",
    "    # Read the names of the columns\n",
    "    columns = f.readline()\n",
    "    columns = columns.split(\";\")\n",
    "    \n",
    "    first_row = f.readline()\n",
    "    first_row = first_row.split(\";\")\n",
    "    first_row = first_row[5:] # Note: Remove this if time is included\n",
    "    first_row = [float(num) for num in first_row]\n",
    "    \n",
    "    features = [np.array(first_row)]\n",
    "\n",
    "    count = 5000\n",
    "    for row in f:\n",
    "        row = row.split(\";\")\n",
    "        row = row[5:]\n",
    "        row = [float(num) for num in row]\n",
    "        \n",
    "        features.append(row)\n",
    "        if not count:\n",
    "            break\n",
    "        count = count - 1\n",
    "#     for i in range(17):\n",
    "#         features[:][i] = normalize([features[:][i]])[0]\n",
    "        \n",
    "    return np.array(features)\n",
    "\n"
   ]
  },
  {
   "cell_type": "markdown",
   "metadata": {},
   "source": [
    "## My implementation of PCA\n",
    "The below function ``` pca() ``` is my implementation of PCA. Although, while plotting the graphs, I'm using an external library to do PCA"
   ]
  },
  {
   "cell_type": "code",
   "execution_count": 52,
   "metadata": {
    "scrolled": false
   },
   "outputs": [
    {
     "data": {
      "text/plain": [
       "array([[ 7.15496226,  6.20833387,  0.81065688],\n",
       "       [ 4.18817127,  2.20540336, -1.259345  ],\n",
       "       [ 4.93790827,  3.12133992, -0.56675231]])"
      ]
     },
     "execution_count": 52,
     "metadata": {},
     "output_type": "execute_result"
    }
   ],
   "source": [
    "def pca(x, dim):\n",
    "    \n",
    "    x_shape = np.shape(x)\n",
    "    if len(x_shape) < 2:\n",
    "        print(\"check the shape of X\")\n",
    "        return\n",
    "    \n",
    "    extract_dimension = lambda x, pos:[k[pos] for k in x]\n",
    "    MUx = [np.average(extract_dimension(x, z)) for z in range(x_shape[1])]\n",
    "    Cx = np.zeros([x_shape[1], x_shape[1]])\n",
    "    \n",
    "    for xi in x:\n",
    "        Cx += np.matmul(np.transpose([xi-MUx]), [xi-MUx])\n",
    "    \n",
    "    eig_vals, eig_vectors = np.linalg.eig(Cx)\n",
    "    eig_dict = dict(zip(eig_vals, eig_vectors))\n",
    "    w=[]\n",
    "    \n",
    "    count = 0\n",
    "    for val in sorted(eig_vals):\n",
    "        w.append(eig_dict[val])\n",
    "        count = count + 1\n",
    "        if count == dim:\n",
    "            break\n",
    "    \n",
    "    return np.matmul(x, np.transpose(w))\n",
    "x = [[1,2,5,6,7],[2,4,1,3,5],[2,5,2,4,5]]\n",
    "pca(np.array([np.array(xi) for xi in x]),3)\n"
   ]
  },
  {
   "cell_type": "markdown",
   "metadata": {},
   "source": [
    "Below, I'm calling the ``` dataset_loader() ``` function and defining the ``` colors ``` variable for plotting purposes"
   ]
  },
  {
   "cell_type": "code",
   "execution_count": 53,
   "metadata": {},
   "outputs": [
    {
     "name": "stdout",
     "output_type": "stream",
     "text": [
      "(50020, 17)\n"
     ]
    }
   ],
   "source": [
    "features = []\n",
    "num_participants = 10\n",
    "for i in range(num_participants):\n",
    "    features.extend(dataset_loader(i+1))\n",
    "\n",
    "print(np.shape(features))\n",
    "\n",
    "for i in range(17):\n",
    "    features[:][i] = normalize([features[:][i]])[0]\n",
    "\n",
    "colors = itertools.cycle([\"green\", \"blue\", \"yellow\", \"pink\", \"purple\", \"red\", \"black\", \"orange\", \"brown\", \"gray\"])\n",
    "num_rows = 5002"
   ]
  },
  {
   "cell_type": "markdown",
   "metadata": {},
   "source": [
    "## Plot of the Data\n",
    "The output of the cell below contains : \n",
    "* A plot of the data converted to 2-D using PCA\n",
    "* A plot of the data converted to 3-D using PCA\n",
    "    - This plot is very **interactive**. You can drag around and visualize the data from the plot \n",
    "    - This plot can be accessed at https://plot.ly/~shravan97/66.embed\n",
    "    "
   ]
  },
  {
   "cell_type": "code",
   "execution_count": null,
   "metadata": {},
   "outputs": [
    {
     "data": {
      "image/png": "[encoded data removed]",
      "text/plain": [
       "<matplotlib.figure.Figure at 0x11a7c4978>"
      ]
     },
     "metadata": {},
     "output_type": "display_data"
    },
    {
     "name": "stdout",
     "output_type": "stream",
     "text": [
      "The draw time for this plot will be slow for clients without much RAM.\n"
     ]
    },
    {
     "data": {
      "text/html": [
       "<iframe id=\"igraph\" scrolling=\"no\" style=\"border:none;\" seamless=\"seamless\" src=\"https://plot.ly/~shravan97/68.embed\" height=\"525px\" width=\"100%\"></iframe>"
      ],
      "text/plain": [
       "<plotly.tools.PlotlyDisplay object>"
      ]
     },
     "execution_count": 54,
     "metadata": {},
     "output_type": "execute_result"
    }
   ],
   "source": [
    "pca2d = PCA(n_components=2)\n",
    "pca3d = PCA(n_components=3)\n",
    "\n",
    "#### Reducing dimensions to 2-D using PCA  ####\n",
    "reduced_features= pca2d.fit_transform(features)\n",
    "\n",
    "# for i in range(num_participants):\n",
    "#     reduced_features.append(pca2d.fit_transform(features[i]))\n",
    "\n",
    "fig = pyp.figure()\n",
    "ax = fig.add_subplot(111)\n",
    "\n",
    "\n",
    "for i in range(num_participants):\n",
    "    x,y = reduced_features[num_rows*i:num_rows*i+num_rows].T\n",
    "    cur_color = next(colors)\n",
    "    ax.scatter(x, y, color=cur_color)\n",
    "\n",
    "#     x,y = reduced_features[i].T\n",
    "#     cur_color = next(colors)\n",
    "#     ax.scatter(x, y, color=cur_color)\n",
    "\n",
    "pyp.show()\n",
    "pyp.close()\n",
    "\n",
    "#### Reducing dimensions to 3-D using PCA ####\n",
    "data = []\n",
    "\n",
    "reduced_features_3d= pca3d.fit_transform(features)\n",
    "\n",
    "for i in range(num_participants):\n",
    "    x,y,z = reduced_features_3d[num_rows*i:num_rows*i+num_rows].T\n",
    "    trace = go.Scatter3d(x=x, y=y, z = z, mode ='markers', marker=dict(\n",
    "        color=next(colors)))\n",
    "    data.append(trace)\n",
    "\n",
    "\n",
    "figure = go.Figure(data=data)\n",
    "ply.iplot(figure)\n",
    "# IPython.display.HTML(\"<iframe src='https://plot.ly/~shravan97/48.embed' width='900' height='700'></iframe>\")\n",
    "# This plot can be accessed at https://plot.ly/~shravan97/48.embed"
   ]
  },
  {
   "cell_type": "markdown",
   "metadata": {},
   "source": [
    "## Dimensionality reduction using Kernel PCA\n",
    "The below cell is plotting of data after reducing it to 2-D and 3-D using *Kernel* PCA. The kernel used here is **Gaussian** Kernel or **Rbf** kernel. This plot is also **interactive** and you can drag around to see different points. This plot can be accessed at https://plot.ly/~shravan97/50.embed"
   ]
  },
  {
   "cell_type": "code",
   "execution_count": null,
   "metadata": {},
   "outputs": [],
   "source": [
    "#### Kernel PCA with 'rbf' or 'Gaussian' Kernel ####\n",
    "kpca2d = KernelPCA(n_components=2, kernel='rbf')\n",
    "kpca3d = KernelPCA(n_components=3, kernel='rbf')\n",
    "\n",
    "reduced_features_kpca = kpca2d.fit_transform(features)\n",
    "\n",
    "# for i in range(num_participants):\n",
    "#     reduced_features_kpca.append(kpca2d.fit_transform(features[i]))\n",
    "\n",
    "fig = pyp.figure()\n",
    "ax1 = fig.add_subplot(111)\n",
    "\n",
    "for i in range(num_participants):\n",
    "    x,y = reduced_features_kpca[num_rows*i:num_rows*i+num_rows].T\n",
    "    cur_color = next(colors)\n",
    "    ax1.scatter(x, y, color=cur_color)\n",
    "\n",
    "pyp.show()\n",
    "\n",
    "data = []\n",
    "reduced_features_kpca_3d = kpca3d.fit_transform(features)\n",
    "for i in range(num_participants):\n",
    "    \n",
    "    x,y,z = reduced_features_kpca_3d[num_rows*i:num_rows*i+num_rows].T\n",
    "    trace = go.Scatter3d(x=x, y=y, z = z, mode ='markers', marker=dict(\n",
    "        color=next(colors)))\n",
    "    data.append(trace)\n",
    "\n",
    "\n",
    "fig = go.Figure(data=data)\n",
    "ply.iplot(fig)\n",
    "# This plot can be accessed at https://plot.ly/~shravan97/50.embed\n",
    "# IPython.display.HTML(\"<iframe src='https://plot.ly/~shravan97/50.embed' width='900' height='700'></iframe>\")"
   ]
  },
  {
   "cell_type": "markdown",
   "metadata": {},
   "source": [
    "## K-Means Algorithm\n",
    "This below function implements **K-Means** algorithm for '10' cluster centers"
   ]
  },
  {
   "cell_type": "code",
   "execution_count": null,
   "metadata": {},
   "outputs": [],
   "source": [
    "def k_means(features, clusters):\n",
    "    \n",
    "#     whitened = whiten(features)\n",
    "#     print(np.shape(whitened))\n",
    "    classes, _ = kmeans(features, clusters)\n",
    "    return classes\n",
    "    \n",
    "# features = dataset_loader(1)\n",
    "centers = k_means(reduced_features, 7)\n",
    "# reduced_centers = pca2d.fit_transform(centers, 2)\n",
    "# print(np.shape(reduced_centers))\n",
    "x,y = centers.T\n",
    "pyp.scatter(x,y)\n",
    "pyp.show()"
   ]
  },
  {
   "cell_type": "code",
   "execution_count": null,
   "metadata": {
    "collapsed": true
   },
   "outputs": [],
   "source": []
  }
 ],
 "metadata": {
  "kernelspec": {
   "display_name": "Python 3",
   "language": "python",
   "name": "python3"
  },
  "language_info": {
   "codemirror_mode": {
    "name": "ipython",
    "version": 3
   },
   "file_extension": ".py",
   "mimetype": "text/x-python",
   "name": "python",
   "nbconvert_exporter": "python",
   "pygments_lexer": "ipython3",
   "version": "3.6.1"
  }
 },
 "nbformat": 4,
 "nbformat_minor": 2
}
