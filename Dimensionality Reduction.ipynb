{
 "cells": [
  {
   "cell_type": "code",
   "execution_count": 78,
   "metadata": {
    "collapsed": true
   },
   "outputs": [],
   "source": [
    "# Imports\n",
    "import numpy as np\n",
    "import scipy as sc\n",
    "import matplotlib.pyplot as pyp\n",
    "from scipy.cluster.vq import vq, kmeans, whiten"
   ]
  },
  {
   "cell_type": "code",
   "execution_count": 6,
   "metadata": {
    "collapsed": true
   },
   "outputs": [],
   "source": [
    "def process_value(value):\n",
    "    # Fill in this function if you're \n",
    "    # considering time values as well\n",
    "    pass\n",
    "        "
   ]
  },
  {
   "cell_type": "code",
   "execution_count": 52,
   "metadata": {},
   "outputs": [],
   "source": [
    "def dataset_loader(participant):\n",
    "    # Load the file \n",
    "    participant = \"participant_\" + str(participant)\n",
    "    f = open(\"dataset/dataset_web/{}.csv\".format(participant), \"r+\")\n",
    "    \n",
    "    # Read the names of the columns\n",
    "    columns = f.readline()\n",
    "    columns = columns.split(\";\")\n",
    "    \n",
    "    first_row = f.readline()\n",
    "    first_row = first_row.split(\";\")\n",
    "    first_row = first_row[5:] # Note: Remove this if time is included\n",
    "    first_row = [float(num) for num in first_row]\n",
    "    \n",
    "    features = [np.array(first_row)]\n",
    "\n",
    "    count = 500\n",
    "    for row in f:\n",
    "        row = row.split(\";\")\n",
    "        row = row[5:]\n",
    "        row = [float(num) for num in row]\n",
    "        \n",
    "        features.append(row)\n",
    "        if not count:\n",
    "            break\n",
    "        count = count - 1\n",
    "        \n",
    "    return np.array(features)\n",
    "\n"
   ]
  },
  {
   "cell_type": "code",
   "execution_count": 63,
   "metadata": {
    "scrolled": false
   },
   "outputs": [
    {
     "data": {
      "text/plain": [
       "array([[ 7.39077306,  6.11825602,  2.12262043],\n",
       "       [ 3.19824491,  3.70990538, -0.66083022],\n",
       "       [ 3.99888204,  4.25567905,  0.29511961]])"
      ]
     },
     "execution_count": 63,
     "metadata": {},
     "output_type": "execute_result"
    }
   ],
   "source": [
    "def pca(x, dim):\n",
    "    \n",
    "    x_shape = np.shape(x)\n",
    "    if len(x_shape) < 2:\n",
    "        print(\"check the shape of X\")\n",
    "        return\n",
    "    \n",
    "#     print(x_shape)\n",
    "    extract_dimension = lambda x, pos:[k[pos] for k in x]\n",
    "    MUx = [np.average(extract_dimension(x, z)) for z in range(x_shape[1])]\n",
    "#     print(MUx)\n",
    "#     r  = np.array([1,2])\n",
    "#     print(np.shape(r-MUx), np.shape(np.transpose(r-MUx)))\n",
    "#     print(np.matmul([r-MUx], np.transpose([r-MUx])))\n",
    "    Cx = np.zeros([x_shape[1], x_shape[1]])\n",
    "#     matrices=[np.matmul(np.transpose([xi-MUx]), [xi-MUx]) for xi in x]\n",
    "#     print(np.shape(matrices))\n",
    "#     Cx = np.add(*matrices)# Covarience matrix\n",
    "    \n",
    "    for xi in x:\n",
    "        Cx += np.matmul(np.transpose([xi-MUx]), [xi-MUx])\n",
    "    \n",
    "    eig_vals, eig_vectors = np.linalg.eig(Cx)\n",
    "    eig_dict = dict(zip(eig_vals, eig_vectors))\n",
    "    w=[]\n",
    "    \n",
    "    count = 0\n",
    "    for val in sorted(eig_vals):\n",
    "        w.append(eig_dict[val])\n",
    "        count = count + 1\n",
    "        if count == dim:\n",
    "            break\n",
    "    \n",
    "    return np.matmul(x, np.transpose(w))\n",
    "x = [[1,2,5,6,7],[2,4,1,3,5],[2,5,2,4,5]]\n",
    "pca(np.array([np.array(xi) for xi in x]),3)\n"
   ]
  },
  {
   "cell_type": "code",
   "execution_count": 77,
   "metadata": {},
   "outputs": [
    {
     "data": {
      "image/png": "[encoded data removed]",
      "text/plain": [
       "<matplotlib.figure.Figure at 0x10ae92978>"
      ]
     },
     "metadata": {},
     "output_type": "display_data"
    },
    {
     "data": {
      "image/png": "[encoded data removed]",
      "text/plain": [
       "<matplotlib.figure.Figure at 0x10e154f60>"
      ]
     },
     "metadata": {},
     "output_type": "display_data"
    }
   ],
   "source": [
    "features = dataset_loader(1)\n",
    "# print(np.shape(features))\n",
    "pyp.plot(features)\n",
    "pyp.show()\n",
    "reduced_features = pca(features, 2)\n",
    "x,y = reduced_features.T\n",
    "pyp.scatter(x, y)\n",
    "pyp.show()"
   ]
  },
  {
   "cell_type": "code",
   "execution_count": 82,
   "metadata": {},
   "outputs": [
    {
     "name": "stdout",
     "output_type": "stream",
     "text": [
      "(502, 17)\n",
      "[[ -7.36945441e+00   1.93320281e+02   3.56929395e-02   4.10998582e+01\n",
      "    1.22509645e+14   2.56373321e+15   1.00000000e+01   4.97000000e+02\n",
      "    3.13872137e+14   1.44665524e+14   0.00000000e+00   0.00000000e+00\n",
      "   -3.86451247e+00   2.68835455e+01   2.98822754e+03   2.86882645e+01\n",
      "    4.58813254e+01]]\n"
     ]
    },
    {
     "name": "stderr",
     "output_type": "stream",
     "text": [
      "/Users/shravan/anaconda3/lib/python3.6/site-packages/scipy/cluster/vq.py:147: RuntimeWarning: Some columns have standard deviation zero. The values of these columns will not change.\n",
      "  RuntimeWarning)\n"
     ]
    }
   ],
   "source": [
    "def k_means(features, clusters):\n",
    "    \n",
    "    whitened = whiten(features)\n",
    "    print(np.shape(whitened))\n",
    "    classes, _ = kmeans(whitened, clusters)\n",
    "    print(classes)\n",
    "    \n",
    "features = dataset_loader(1)\n",
    "k_means(features, 10)\n",
    "    "
   ]
  },
  {
   "cell_type": "code",
   "execution_count": null,
   "metadata": {
    "collapsed": true
   },
   "outputs": [],
   "source": []
  }
 ],
 "metadata": {
  "kernelspec": {
   "display_name": "Python 3",
   "language": "python",
   "name": "python3"
  },
  "language_info": {
   "codemirror_mode": {
    "name": "ipython",
    "version": 3
   },
   "file_extension": ".py",
   "mimetype": "text/x-python",
   "name": "python",
   "nbconvert_exporter": "python",
   "pygments_lexer": "ipython3",
   "version": "3.6.1"
  }
 },
 "nbformat": 4,
 "nbformat_minor": 2
}
